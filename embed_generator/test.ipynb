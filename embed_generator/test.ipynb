{
 "cells": [
  {
   "cell_type": "code",
   "execution_count": 1,
   "metadata": {},
   "outputs": [],
   "source": [
    "import os\n",
    "import annoy\n",
    "import re\n",
    "import requests\n",
    "import numpy as np\n",
    "import pandas as pd\n",
    "from PIL import Image\n",
    "from tqdm import tqdm\n",
    "from typing import List, Tuple\n",
    "\n",
    "from utils import *\n",
    "from visualization import *"
   ]
  },
  {
   "cell_type": "code",
   "execution_count": 2,
   "metadata": {},
   "outputs": [],
   "source": [
    "generator = FashionEmbeddingGenerator()\n",
    "\n",
    "def img_folder2csv(category, data_path, save_path, file_name, batch_size: int=256):\n",
    "    df = pd.DataFrame(columns=['id', 'embed', 'category'])\n",
    "    file_paths = os.listdir(data_path)\n",
    "\n",
    "    for idx in tqdm(range(0, len(file_paths), batch_size)):\n",
    "        batch = file_paths[idx:idx + batch_size]\n",
    "        ids = list(map(lambda x: re.sub(r'\\.jpg$', '', x), batch))\n",
    "        images = list(map(lambda x: Image.open(os.path.join(data_path, x)), batch))\n",
    "        embeds = generator.img2embed(images)\n",
    "        df = pd.concat([df, pd.DataFrame.from_dict({'id': ids, 'embed': embeds})], axis=0)\n",
    "\n",
    "    df['category'] = category\n",
    "    df.to_csv(os.path.join(save_path, file_name), index=False)"
   ]
  },
  {
   "cell_type": "code",
   "execution_count": 3,
   "metadata": {},
   "outputs": [
    {
     "name": "stderr",
     "output_type": "stream",
     "text": [
      "100%|██████████| 59/59 [07:24<00:00,  7.53s/it]\n"
     ]
    }
   ],
   "source": [
    "category = 'top'\n",
    "data_path = f'../data/FashionVCdata/{category}'\n",
    "save_path = '../data/FashionVCdata/'\n",
    "file_name = f'{category}_embeds.csv'\n",
    "img_folder2csv(category, data_path, save_path, file_name)"
   ]
  },
  {
   "cell_type": "code",
   "execution_count": 4,
   "metadata": {},
   "outputs": [
    {
     "name": "stderr",
     "output_type": "stream",
     "text": [
      "100%|██████████| 54/54 [06:22<00:00,  7.07s/it]\n"
     ]
    }
   ],
   "source": [
    "category = 'bottom'\n",
    "data_path = f'../data/FashionVCdata/{category}'\n",
    "save_path = '../data/FashionVCdata/'\n",
    "file_name = f'{category}_embeds.csv'\n",
    "img_folder2csv(category, data_path, save_path, file_name)"
   ]
  },
  {
   "cell_type": "code",
   "execution_count": 6,
   "metadata": {},
   "outputs": [
    {
     "ename": "TypeError",
     "evalue": "new(): invalid data type 'str'",
     "output_type": "error",
     "traceback": [
      "\u001b[0;31m---------------------------------------------------------------------------\u001b[0m",
      "\u001b[0;31mTypeError\u001b[0m                                 Traceback (most recent call last)",
      "\u001b[1;32m/Users/owj0421/Desktop/Projects/2023/ai_stylist/embed_generator/test.ipynb Cell 5\u001b[0m line \u001b[0;36m5\n\u001b[1;32m      <a href='vscode-notebook-cell:/Users/owj0421/Desktop/Projects/2023/ai_stylist/embed_generator/test.ipynb#W4sZmlsZQ%3D%3D?line=2'>3</a>\u001b[0m query_idx \u001b[39m=\u001b[39m \u001b[39m512\u001b[39m\n\u001b[1;32m      <a href='vscode-notebook-cell:/Users/owj0421/Desktop/Projects/2023/ai_stylist/embed_generator/test.ipynb#W4sZmlsZQ%3D%3D?line=3'>4</a>\u001b[0m query \u001b[39m=\u001b[39m df\u001b[39m.\u001b[39miloc[query_idx]\n\u001b[0;32m----> <a href='vscode-notebook-cell:/Users/owj0421/Desktop/Projects/2023/ai_stylist/embed_generator/test.ipynb#W4sZmlsZQ%3D%3D?line=4'>5</a>\u001b[0m df[\u001b[39m'\u001b[39m\u001b[39msim\u001b[39m\u001b[39m'\u001b[39m] \u001b[39m=\u001b[39m df\u001b[39m.\u001b[39;49mapply(\u001b[39mlambda\u001b[39;49;00m x: torch\u001b[39m.\u001b[39;49mnn\u001b[39m.\u001b[39;49mCosineSimilarity(dim\u001b[39m=\u001b[39;49m\u001b[39m0\u001b[39;49m)(torch\u001b[39m.\u001b[39;49mTensor(x[\u001b[39m'\u001b[39;49m\u001b[39membed\u001b[39;49m\u001b[39m'\u001b[39;49m]), torch\u001b[39m.\u001b[39;49mTensor(query[\u001b[39m'\u001b[39;49m\u001b[39membed\u001b[39;49m\u001b[39m'\u001b[39;49m])), axis\u001b[39m=\u001b[39;49m\u001b[39m1\u001b[39;49m)\n\u001b[1;32m      <a href='vscode-notebook-cell:/Users/owj0421/Desktop/Projects/2023/ai_stylist/embed_generator/test.ipynb#W4sZmlsZQ%3D%3D?line=6'>7</a>\u001b[0m n\u001b[39m=\u001b[39m\u001b[39m10\u001b[39m\n\u001b[1;32m      <a href='vscode-notebook-cell:/Users/owj0421/Desktop/Projects/2023/ai_stylist/embed_generator/test.ipynb#W4sZmlsZQ%3D%3D?line=8'>9</a>\u001b[0m \u001b[39mprint\u001b[39m(\u001b[39m'\u001b[39m\u001b[39mquery\u001b[39m\u001b[39m'\u001b[39m)\n",
      "File \u001b[0;32m/opt/homebrew/Caskroom/miniconda/base/envs/cs224n/lib/python3.10/site-packages/pandas/core/frame.py:9568\u001b[0m, in \u001b[0;36mDataFrame.apply\u001b[0;34m(self, func, axis, raw, result_type, args, **kwargs)\u001b[0m\n\u001b[1;32m   9557\u001b[0m \u001b[39mfrom\u001b[39;00m \u001b[39mpandas\u001b[39;00m\u001b[39m.\u001b[39;00m\u001b[39mcore\u001b[39;00m\u001b[39m.\u001b[39;00m\u001b[39mapply\u001b[39;00m \u001b[39mimport\u001b[39;00m frame_apply\n\u001b[1;32m   9559\u001b[0m op \u001b[39m=\u001b[39m frame_apply(\n\u001b[1;32m   9560\u001b[0m     \u001b[39mself\u001b[39m,\n\u001b[1;32m   9561\u001b[0m     func\u001b[39m=\u001b[39mfunc,\n\u001b[0;32m   (...)\u001b[0m\n\u001b[1;32m   9566\u001b[0m     kwargs\u001b[39m=\u001b[39mkwargs,\n\u001b[1;32m   9567\u001b[0m )\n\u001b[0;32m-> 9568\u001b[0m \u001b[39mreturn\u001b[39;00m op\u001b[39m.\u001b[39;49mapply()\u001b[39m.\u001b[39m__finalize__(\u001b[39mself\u001b[39m, method\u001b[39m=\u001b[39m\u001b[39m\"\u001b[39m\u001b[39mapply\u001b[39m\u001b[39m\"\u001b[39m)\n",
      "File \u001b[0;32m/opt/homebrew/Caskroom/miniconda/base/envs/cs224n/lib/python3.10/site-packages/pandas/core/apply.py:764\u001b[0m, in \u001b[0;36mFrameApply.apply\u001b[0;34m(self)\u001b[0m\n\u001b[1;32m    761\u001b[0m \u001b[39melif\u001b[39;00m \u001b[39mself\u001b[39m\u001b[39m.\u001b[39mraw:\n\u001b[1;32m    762\u001b[0m     \u001b[39mreturn\u001b[39;00m \u001b[39mself\u001b[39m\u001b[39m.\u001b[39mapply_raw()\n\u001b[0;32m--> 764\u001b[0m \u001b[39mreturn\u001b[39;00m \u001b[39mself\u001b[39;49m\u001b[39m.\u001b[39;49mapply_standard()\n",
      "File \u001b[0;32m/opt/homebrew/Caskroom/miniconda/base/envs/cs224n/lib/python3.10/site-packages/pandas/core/apply.py:891\u001b[0m, in \u001b[0;36mFrameApply.apply_standard\u001b[0;34m(self)\u001b[0m\n\u001b[1;32m    890\u001b[0m \u001b[39mdef\u001b[39;00m \u001b[39mapply_standard\u001b[39m(\u001b[39mself\u001b[39m):\n\u001b[0;32m--> 891\u001b[0m     results, res_index \u001b[39m=\u001b[39m \u001b[39mself\u001b[39;49m\u001b[39m.\u001b[39;49mapply_series_generator()\n\u001b[1;32m    893\u001b[0m     \u001b[39m# wrap results\u001b[39;00m\n\u001b[1;32m    894\u001b[0m     \u001b[39mreturn\u001b[39;00m \u001b[39mself\u001b[39m\u001b[39m.\u001b[39mwrap_results(results, res_index)\n",
      "File \u001b[0;32m/opt/homebrew/Caskroom/miniconda/base/envs/cs224n/lib/python3.10/site-packages/pandas/core/apply.py:907\u001b[0m, in \u001b[0;36mFrameApply.apply_series_generator\u001b[0;34m(self)\u001b[0m\n\u001b[1;32m    904\u001b[0m \u001b[39mwith\u001b[39;00m option_context(\u001b[39m\"\u001b[39m\u001b[39mmode.chained_assignment\u001b[39m\u001b[39m\"\u001b[39m, \u001b[39mNone\u001b[39;00m):\n\u001b[1;32m    905\u001b[0m     \u001b[39mfor\u001b[39;00m i, v \u001b[39min\u001b[39;00m \u001b[39menumerate\u001b[39m(series_gen):\n\u001b[1;32m    906\u001b[0m         \u001b[39m# ignore SettingWithCopy here in case the user mutates\u001b[39;00m\n\u001b[0;32m--> 907\u001b[0m         results[i] \u001b[39m=\u001b[39m \u001b[39mself\u001b[39;49m\u001b[39m.\u001b[39;49mf(v)\n\u001b[1;32m    908\u001b[0m         \u001b[39mif\u001b[39;00m \u001b[39misinstance\u001b[39m(results[i], ABCSeries):\n\u001b[1;32m    909\u001b[0m             \u001b[39m# If we have a view on v, we need to make a copy because\u001b[39;00m\n\u001b[1;32m    910\u001b[0m             \u001b[39m#  series_generator will swap out the underlying data\u001b[39;00m\n\u001b[1;32m    911\u001b[0m             results[i] \u001b[39m=\u001b[39m results[i]\u001b[39m.\u001b[39mcopy(deep\u001b[39m=\u001b[39m\u001b[39mFalse\u001b[39;00m)\n",
      "\u001b[1;32m/Users/owj0421/Desktop/Projects/2023/ai_stylist/embed_generator/test.ipynb Cell 5\u001b[0m line \u001b[0;36m5\n\u001b[1;32m      <a href='vscode-notebook-cell:/Users/owj0421/Desktop/Projects/2023/ai_stylist/embed_generator/test.ipynb#W4sZmlsZQ%3D%3D?line=2'>3</a>\u001b[0m query_idx \u001b[39m=\u001b[39m \u001b[39m512\u001b[39m\n\u001b[1;32m      <a href='vscode-notebook-cell:/Users/owj0421/Desktop/Projects/2023/ai_stylist/embed_generator/test.ipynb#W4sZmlsZQ%3D%3D?line=3'>4</a>\u001b[0m query \u001b[39m=\u001b[39m df\u001b[39m.\u001b[39miloc[query_idx]\n\u001b[0;32m----> <a href='vscode-notebook-cell:/Users/owj0421/Desktop/Projects/2023/ai_stylist/embed_generator/test.ipynb#W4sZmlsZQ%3D%3D?line=4'>5</a>\u001b[0m df[\u001b[39m'\u001b[39m\u001b[39msim\u001b[39m\u001b[39m'\u001b[39m] \u001b[39m=\u001b[39m df\u001b[39m.\u001b[39mapply(\u001b[39mlambda\u001b[39;00m x: torch\u001b[39m.\u001b[39mnn\u001b[39m.\u001b[39mCosineSimilarity(dim\u001b[39m=\u001b[39m\u001b[39m0\u001b[39m)(torch\u001b[39m.\u001b[39;49mTensor(x[\u001b[39m'\u001b[39;49m\u001b[39membed\u001b[39;49m\u001b[39m'\u001b[39;49m]), torch\u001b[39m.\u001b[39mTensor(query[\u001b[39m'\u001b[39m\u001b[39membed\u001b[39m\u001b[39m'\u001b[39m])), axis\u001b[39m=\u001b[39m\u001b[39m1\u001b[39m)\n\u001b[1;32m      <a href='vscode-notebook-cell:/Users/owj0421/Desktop/Projects/2023/ai_stylist/embed_generator/test.ipynb#W4sZmlsZQ%3D%3D?line=6'>7</a>\u001b[0m n\u001b[39m=\u001b[39m\u001b[39m10\u001b[39m\n\u001b[1;32m      <a href='vscode-notebook-cell:/Users/owj0421/Desktop/Projects/2023/ai_stylist/embed_generator/test.ipynb#W4sZmlsZQ%3D%3D?line=8'>9</a>\u001b[0m \u001b[39mprint\u001b[39m(\u001b[39m'\u001b[39m\u001b[39mquery\u001b[39m\u001b[39m'\u001b[39m)\n",
      "\u001b[0;31mTypeError\u001b[0m: new(): invalid data type 'str'"
     ]
    }
   ],
   "source": [
    "df = pd.read_csv(os.path.join(save_path, file_name))\n",
    "\n",
    "query_idx = 512\n",
    "query = df.iloc[query_idx]\n",
    "df['sim'] = df.apply(lambda x: torch.nn.CosineSimilarity(dim=0)(torch.Tensor(x['embed']), torch.Tensor(query['embed'])), axis=1)\n",
    "\n",
    "n=10\n",
    "\n",
    "print('query')\n",
    "query_file_name = str(query['id']) + '.jpg'\n",
    "show_single_image(data_path, query_file_name)\n",
    "\n",
    "print('most_similar G.T')\n",
    "most_similar = df.sort_values('sim', ascending=False, ignore_index=True)[1:n + 1]\n",
    "file_names = list(map(lambda x: str(x) + '.jpg', most_similar['id'].tolist()))\n",
    "show_top_n_image(data_path, file_names, most_similar['sim'].tolist(), n=n)\n",
    "\n",
    "print('least_similar G.T')\n",
    "least_similar = df.sort_values('sim', ascending=True, ignore_index=True)[0:n]\n",
    "file_names = list(map(lambda x: str(x) + '.jpg', least_similar['id'].tolist()))\n",
    "show_top_n_image(data_path, file_names, least_similar['sim'].tolist(), n=n)"
   ]
  },
  {
   "cell_type": "code",
   "execution_count": null,
   "metadata": {},
   "outputs": [],
   "source": [
    "# Annoy Initialization\n",
    "annoy_index = annoy.AnnoyIndex(f=512, metric='angular') # 512 is embed size of CLIP\n",
    "\n",
    "for i, row in df.iterrows():\n",
    "    annoy_index.add_item(i, np.array(row['embed']))\n",
    "\n",
    "annoy_index.build(n_trees=10) # More n_tree helps improve accuracy\n",
    "annoy_index.save('test.ann')"
   ]
  },
  {
   "cell_type": "code",
   "execution_count": null,
   "metadata": {},
   "outputs": [],
   "source": [
    "# Embedding Vector of Query\n",
    "query_embed = np.array(query['embed'])\n",
    "# It outputs 'index' and 'distance' (the smaller, the more similar) for n similar vectors.\n",
    "get_nns_list = annoy_index.get_nns_by_vector(vector=query_embed, n=n, include_distances=True)\n",
    "\n",
    "print('most_similar ANN')\n",
    "file_names = list(map(lambda x: str(df.iloc[x]['id']) + '.jpg', get_nns_list[0]))\n",
    "show_top_n_image(data_path, file_names, get_nns_list[1], n=n)"
   ]
  },
  {
   "cell_type": "code",
   "execution_count": null,
   "metadata": {},
   "outputs": [],
   "source": []
  },
  {
   "cell_type": "code",
   "execution_count": null,
   "metadata": {},
   "outputs": [],
   "source": []
  }
 ],
 "metadata": {
  "kernelspec": {
   "display_name": "aiku",
   "language": "python",
   "name": "python3"
  },
  "language_info": {
   "codemirror_mode": {
    "name": "ipython",
    "version": 3
   },
   "file_extension": ".py",
   "mimetype": "text/x-python",
   "name": "python",
   "nbconvert_exporter": "python",
   "pygments_lexer": "ipython3",
   "version": "3.10.13"
  }
 },
 "nbformat": 4,
 "nbformat_minor": 2
}
